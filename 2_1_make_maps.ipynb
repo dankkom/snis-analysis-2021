{
 "cells": [
  {
   "cell_type": "code",
   "execution_count": 1,
   "metadata": {},
   "outputs": [],
   "source": [
    "from pathlib import Path\n",
    "\n",
    "import geopandas as gpd\n",
    "import matplotlib.pyplot as plt\n",
    "import pandas as pd"
   ]
  },
  {
   "cell_type": "code",
   "execution_count": 2,
   "metadata": {},
   "outputs": [],
   "source": [
    "def geoplot_tmr(br_mun, df_tmr_mun2, year):\n",
    "    br_mun_tmr_mun_year = br_mun.merge(\n",
    "        df_tmr_mun2.query(f\"ano_referencia == {year}\"),\n",
    "        how=\"left\",\n",
    "        left_on=\"CD_MUN\",\n",
    "        right_on=\"id_municipio\",\n",
    "    )\n",
    "    f, ax = plt.subplots(figsize=(16, 16))\n",
    "    br_mun.plot(ax=ax, color=\"#ddd\")  # Base\n",
    "    br_mun_tmr_mun_year.plot(\n",
    "        ax=ax,\n",
    "        column=\"tarifa_media_trend\",\n",
    "        cmap=\"Blues\",\n",
    "    )\n",
    "    ax.set_xlim(-75, -33)\n",
    "    ax.set_ylim(-35, 6)\n",
    "    ax.text(\n",
    "        x=-70,\n",
    "        y=-25,\n",
    "        s=f\"{year}\",\n",
    "        fontsize=90,\n",
    "    )\n",
    "    f.tight_layout()\n",
    "    ax.axis(\"off\")\n",
    "    return f, ax"
   ]
  },
  {
   "cell_type": "code",
   "execution_count": 4,
   "metadata": {},
   "outputs": [],
   "source": [
    "plots_dir = Path(\"img\", \"maps\")\n",
    "plots_dir.mkdir(parents=True, exist_ok=True)\n",
    "data_dir = Path(\"data\")\n",
    "\n",
    "br_mun = gpd.read_file(data_dir / \"BR_Municipios_2021.zip\")\n",
    "br_mun = br_mun.assign(CD_MUN=lambda x: x[\"CD_MUN\"].astype(\"int64\"))\n",
    "df_tmr_mun3 = pd.read_csv(data_dir / \"processed_tmr_mun.csv\")"
   ]
  },
  {
   "cell_type": "code",
   "execution_count": 5,
   "metadata": {},
   "outputs": [],
   "source": [
    "# CONFIGURATION\n",
    "plt.rcParams[\"font.family\"] = \"serif\"\n",
    "plt.rcParams[\"font.size\"] = 16"
   ]
  },
  {
   "cell_type": "code",
   "execution_count": 6,
   "metadata": {},
   "outputs": [
    {
     "name": "stdout",
     "output_type": "stream",
     "text": [
      "1995 1996 1997 1998 1999 2000 2001 2002 2003 2004 2005 2006 2007 2008 2009 2010 2011 2012 2013 2014 2015 2016 2017 2018 2019 2020 2021 "
     ]
    }
   ],
   "source": [
    "for i, year in enumerate(range(1995, 2021 + 1)):\n",
    "    print(year, end=\" \")\n",
    "    f, ax = geoplot_tmr(br_mun, df_tmr_mun3, year=year)\n",
    "    f.savefig(plots_dir / f\"{i:03}.png\", dpi=300)\n",
    "    plt.close()"
   ]
  },
  {
   "attachments": {},
   "cell_type": "markdown",
   "metadata": {},
   "source": [
    "Create GIF"
   ]
  },
  {
   "cell_type": "code",
   "execution_count": null,
   "metadata": {},
   "outputs": [],
   "source": [
    "# https://stackoverflow.com/questions/24961127/how-to-create-a-video-from-images-with-ffmpeg\n",
    "!ffmpeg -framerate 1 -pattern_type glob -i 'img/maps/*.png' \\\n",
    "  -vf \"fps=10,scale=500:-1:flags=lanczos,split[s0][s1];[s0]palettegen[p];[s1][p]paletteuse\" \\\n",
    "  -loop 0 animation.gif"
   ]
  }
 ],
 "metadata": {
  "kernelspec": {
   "display_name": ".venv",
   "language": "python",
   "name": "python3"
  },
  "language_info": {
   "codemirror_mode": {
    "name": "ipython",
    "version": 3
   },
   "file_extension": ".py",
   "mimetype": "text/x-python",
   "name": "python",
   "nbconvert_exporter": "python",
   "pygments_lexer": "ipython3",
   "version": "3.10.6"
  },
  "orig_nbformat": 4,
  "vscode": {
   "interpreter": {
    "hash": "69ecfc5d443e11743e9b54a2be41893b0fd1f5fb14347c5c2420b7f0947f0ac5"
   }
  }
 },
 "nbformat": 4,
 "nbformat_minor": 2
}
