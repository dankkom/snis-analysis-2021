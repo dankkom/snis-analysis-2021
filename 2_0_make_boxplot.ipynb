{
 "cells": [
  {
   "cell_type": "code",
   "execution_count": null,
   "metadata": {},
   "outputs": [],
   "source": [
    "from pathlib import Path\n",
    "\n",
    "import matplotlib.pyplot as plt\n",
    "import pandas as pd\n",
    "import seaborn as sns"
   ]
  },
  {
   "cell_type": "code",
   "execution_count": null,
   "metadata": {},
   "outputs": [],
   "source": [
    "def boxplot_tmr_uf(df_tmr_mun, year: int, ylim: tuple[float], plots_dir):\n",
    "    # FIG - Violinplot da Tarifa Média por Grande Região do Brasil (2021)\n",
    "    f, ax = plt.subplots(figsize=(20, 10))\n",
    "    df_tmr_mun_year = df_tmr_mun.query(f\"ano_referencia == {year}\")\n",
    "    uf_median = (\n",
    "        df_tmr_mun_year\n",
    "        .groupby(\"sigla_uf\")\n",
    "        [[\"tarifa_media\"]]\n",
    "        .median()\n",
    "        .sort_values(by=\"tarifa_media\")\n",
    "    )\n",
    "    boxplot_order_median = uf_median.index\n",
    "    sns.boxplot(\n",
    "        data=df_tmr_mun_year,\n",
    "        ax=ax,\n",
    "        x=\"sigla_uf\",\n",
    "        y=\"tarifa_media\",\n",
    "        order=boxplot_order_median,\n",
    "        palette=\"viridis\",\n",
    "    )\n",
    "    sns.despine()\n",
    "    ax.set_xlabel(\"Região\")\n",
    "    ax.yaxis.set_major_formatter(lambda x, pos: f\"{x:.02f}\".replace(\".\", \",\"))\n",
    "    ax.set_ylabel(\"Tarifa Média (R$)\")\n",
    "    ax.set_ylim(*ylim)\n",
    "    f.tight_layout()\n",
    "    f.savefig(plots_dir / \"fig-tmr-uf-boxplot.png\", dpi=300)\n",
    "    plt.clf()"
   ]
  },
  {
   "cell_type": "code",
   "execution_count": null,
   "metadata": {},
   "outputs": [],
   "source": [
    "plots_dir = Path(\"plots\")\n",
    "plots_dir.mkdir(parents=True, exist_ok=True)\n",
    "data_dir = Path(\"data\")\n",
    "\n",
    "df_tmr_mun = pd.read_csv(data_dir / \"processed_tmr_mun.csv\")\n",
    "\n",
    "# CONFIGURATION\n",
    "plt.rcParams[\"font.family\"] = \"serif\"\n",
    "plt.rcParams[\"font.size\"] = 16\n",
    "\n",
    "boxplot_tmr_uf(df_tmr_mun=df_tmr_mun, year=2021, ylim=(-1, 16), plots_dir=plots_dir)"
   ]
  }
 ],
 "metadata": {
  "kernelspec": {
   "display_name": ".venv",
   "language": "python",
   "name": "python3"
  },
  "language_info": {
   "name": "python",
   "version": "3.10.6"
  },
  "orig_nbformat": 4,
  "vscode": {
   "interpreter": {
    "hash": "69ecfc5d443e11743e9b54a2be41893b0fd1f5fb14347c5c2420b7f0947f0ac5"
   }
  }
 },
 "nbformat": 4,
 "nbformat_minor": 2
}
