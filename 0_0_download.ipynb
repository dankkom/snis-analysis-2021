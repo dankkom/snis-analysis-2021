{
 "cells": [
  {
   "cell_type": "code",
   "execution_count": 1,
   "metadata": {},
   "outputs": [],
   "source": [
    "from pathlib import Path\n",
    "\n",
    "import requests\n",
    "import sidrapy"
   ]
  },
  {
   "cell_type": "code",
   "execution_count": 2,
   "metadata": {},
   "outputs": [],
   "source": [
    "def download_data():\n",
    "    data_filepath = Path(\"data/agua-esgoto-desagregado.zip\")\n",
    "    if not data_filepath.exists():\n",
    "        data_filepath.parent.mkdir(exist_ok=True, parents=True)\n",
    "        url_data = (\n",
    "            \"https://github.com\"\n",
    "            \"/viridis-data\"\n",
    "            \"/snis-rawdata\"\n",
    "            \"/releases\"\n",
    "            \"/download\"\n",
    "            \"/v2022.12.b\"\n",
    "            \"/agua-esgoto-desagregado.zip\"\n",
    "        )\n",
    "        r = requests.get(url_data)\n",
    "        with open(data_filepath, \"wb\") as f:\n",
    "            f.write(r.content)\n",
    "    return data_filepath\n",
    "\n",
    "\n",
    "def download_shp():\n",
    "    shp_filepath = Path(\"data/BR_Municipios_2021.zip\")\n",
    "    if not shp_filepath.exists():\n",
    "        shp_filepath.parent.mkdir(exist_ok=True, parents=True)\n",
    "        shp_url = (\n",
    "            \"https://geoftp.ibge.gov.br\"\n",
    "            \"/organizacao_do_territorio\"\n",
    "            \"/malhas_territoriais\"\n",
    "            \"/malhas_municipais\"\n",
    "            \"/municipio_2021\"\n",
    "            \"/Brasil\"\n",
    "            \"/BR\"\n",
    "            \"/BR_Municipios_2021.zip\"\n",
    "        )\n",
    "        r = requests.get(shp_url, timeout=300)\n",
    "        with open(shp_filepath, \"wb\") as f:\n",
    "            f.write(r.content)\n",
    "    return shp_filepath\n",
    "\n",
    "\n",
    "def download_ipca():\n",
    "    ipca_filepath = Path(\"data/ipca.csv\")\n",
    "    if not ipca_filepath.exists():\n",
    "        ipca_filepath.parent.mkdir(exist_ok=True, parents=True)\n",
    "        ipca = sidrapy.get_table(\n",
    "            table_code=\"1737\",\n",
    "            territorial_level=\"1\",\n",
    "            ibge_territorial_code=\"1\",\n",
    "            period=\"all\",\n",
    "        )\n",
    "        ipca.to_csv(ipca_filepath, encoding=\"utf-8\", index=False)\n",
    "    return ipca_filepath\n",
    "\n",
    "\n",
    "def download_municipio():\n",
    "    municipio_filepath = Path(\"data/municipio.csv.gz\")\n",
    "    if not municipio_filepath.exists():\n",
    "        municipio_filepath.parent.mkdir(exist_ok=True, parents=True)\n",
    "        municipio_url = (\n",
    "            \"https://storage.googleapis.com/basedosdados-public\"\n",
    "            \"/one-click-download\"\n",
    "            \"/br_bd_diretorios_brasil\"\n",
    "            \"/municipio\"\n",
    "            \"/municipio.csv.gz\"\n",
    "        )\n",
    "        r = requests.get(municipio_url)\n",
    "        with open(municipio_filepath, \"wb\") as f:\n",
    "            f.write(r.content)\n",
    "    return municipio_filepath"
   ]
  },
  {
   "cell_type": "code",
   "execution_count": 3,
   "metadata": {},
   "outputs": [
    {
     "data": {
      "text/plain": [
       "PosixPath('data/municipio.csv.gz')"
      ]
     },
     "execution_count": 3,
     "metadata": {},
     "output_type": "execute_result"
    }
   ],
   "source": [
    "download_data()\n",
    "download_shp()\n",
    "download_ipca()\n",
    "download_municipio()"
   ]
  }
 ],
 "metadata": {
  "kernelspec": {
   "display_name": ".venv",
   "language": "python",
   "name": "python3"
  },
  "language_info": {
   "codemirror_mode": {
    "name": "ipython",
    "version": 3
   },
   "file_extension": ".py",
   "mimetype": "text/x-python",
   "name": "python",
   "nbconvert_exporter": "python",
   "pygments_lexer": "ipython3",
   "version": "3.10.6"
  },
  "orig_nbformat": 4,
  "vscode": {
   "interpreter": {
    "hash": "69ecfc5d443e11743e9b54a2be41893b0fd1f5fb14347c5c2420b7f0947f0ac5"
   }
  }
 },
 "nbformat": 4,
 "nbformat_minor": 2
}
