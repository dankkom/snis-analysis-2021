{
 "cells": [
  {
   "cell_type": "code",
   "execution_count": null,
   "metadata": {},
   "outputs": [],
   "source": [
    "from pathlib import Path\n",
    "\n",
    "import matplotlib.pyplot as plt\n",
    "import numpy as np\n",
    "import pandas as pd\n",
    "import seaborn as sns"
   ]
  },
  {
   "cell_type": "code",
   "execution_count": null,
   "metadata": {},
   "outputs": [],
   "source": [
    "def tsplot_tmr(df_regiao: pd.DataFrame, plots_dir: Path, nome_regiao: str, color: str):\n",
    "    f, ax = plt.subplots(figsize=(20, 10))\n",
    "    n_series = df_regiao[\"id_municipio\"].nunique()\n",
    "    alpha = 1 / (20 + np.log10(n_series))\n",
    "    for id_municipio in df_regiao[\"id_municipio\"].unique():\n",
    "        df_regiao_mun = df_regiao.query(f\"id_municipio == {id_municipio}\")\n",
    "        ax.plot(\n",
    "            df_regiao_mun.ano_referencia,\n",
    "            df_regiao_mun.tarifa_media_trend,\n",
    "            color=color,\n",
    "            alpha=alpha,\n",
    "        )\n",
    "\n",
    "    sns.despine(ax=ax)\n",
    "    ax.set_xlabel(\"Ano de Referência\")\n",
    "    ax.xaxis.set_major_formatter(lambda x, pos: str(int(x)))\n",
    "    ax.yaxis.set_major_formatter(lambda x, pos: f\"{x:.02f}\".replace(\".\", \",\"))\n",
    "    ax.set_ylabel(\"Tarifa Média (R$)\")\n",
    "    ax.set_ylim(-1, 15)\n",
    "    ax.set_title(f\"Região: {nome_regiao}\")\n",
    "    f.tight_layout()\n",
    "    f.savefig(plots_dir / f\"fig-tmr-mun-trends-{nome_regiao}.png\", dpi=300)\n",
    "    plt.clf()\n",
    "    plt.close()\n",
    "\n",
    "\n",
    "def tsplot_tmr_gr(df_tmr_mun3, plots_dir):\n",
    "    # FIG - Tendências das Tarifas Médias Municipais (1995-2021)\n",
    "    regioes = {\n",
    "        \"Sul\": \"dodgerblue\",\n",
    "        \"Sudeste\": \"green\",\n",
    "        \"Centro-Oeste\": \"orange\",\n",
    "        \"Nordeste\": \"red\",\n",
    "        \"Norte\": \"purple\",\n",
    "    }\n",
    "    for nome_regiao in regioes:\n",
    "        print(nome_regiao)\n",
    "        color = regioes[nome_regiao]\n",
    "        df_regiao = df_tmr_mun3.query(f\"nome_regiao == '{nome_regiao}'\")\n",
    "\n",
    "        tsplot_tmr(\n",
    "            df_regiao=df_regiao,\n",
    "            plots_dir=plots_dir,\n",
    "            nome_regiao=nome_regiao,\n",
    "            color=color,\n",
    "        )"
   ]
  },
  {
   "cell_type": "code",
   "execution_count": null,
   "metadata": {},
   "outputs": [],
   "source": [
    "plots_dir = Path(\"img\")\n",
    "plots_dir.mkdir(parents=True, exist_ok=True)\n",
    "data_dir = Path(\"data\")\n",
    "\n",
    "year_start = 2002\n",
    "\n",
    "df_tmr_mun3 = pd.read_csv(data_dir / \"processed_tmr_mun3.csv\").query(\n",
    "    f\"ano_referencia >= {year_start}\"\n",
    ")\n",
    "\n",
    "# CONFIGURATION\n",
    "plt.rcParams[\"font.family\"] = \"serif\"\n",
    "plt.rcParams[\"font.size\"] = 16\n",
    "\n",
    "tsplot_tmr(\n",
    "    df_regiao=df_tmr_mun3,\n",
    "    plots_dir=plots_dir,\n",
    "    nome_regiao=\"Brasil\",\n",
    "    color=\"black\",\n",
    ")\n",
    "tsplot_tmr_gr(df_tmr_mun3=df_tmr_mun3, plots_dir=plots_dir)"
   ]
  }
 ],
 "metadata": {
  "kernelspec": {
   "display_name": ".venv",
   "language": "python",
   "name": "python3"
  },
  "language_info": {
   "name": "python",
   "version": "3.10.6"
  },
  "orig_nbformat": 4,
  "vscode": {
   "interpreter": {
    "hash": "69ecfc5d443e11743e9b54a2be41893b0fd1f5fb14347c5c2420b7f0947f0ac5"
   }
  }
 },
 "nbformat": 4,
 "nbformat_minor": 2
}
